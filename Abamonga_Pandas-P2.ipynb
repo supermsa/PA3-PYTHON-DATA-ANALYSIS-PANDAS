{
 "cells": [
  {
   "cell_type": "markdown",
   "id": "624c4bc8-59e1-4147-92ef-85bb6b5f5fb9",
   "metadata": {},
   "source": [
    "**Michelle Sophia A. Abamonga**\\\n",
    "2 -ECEB\\\n",
    "PA 3 - PYTHON DATA ANALYSIS (PANDAS)"
   ]
  },
  {
   "cell_type": "markdown",
   "id": "a316eeae-88b2-4049-92ab-694029c12b0b",
   "metadata": {},
   "source": [
    "# PROBLEM 2"
   ]
  },
  {
   "cell_type": "markdown",
   "id": "9de14c22-0e10-4c95-8405-4973dfbd4e0a",
   "metadata": {},
   "source": [
    "#### 1. Import the Pandas library in Python\n",
    "Assign pandas the alias <b>pd</b> for easier reference."
   ]
  },
  {
   "cell_type": "code",
   "execution_count": 76,
   "id": "02277b1c-7161-4025-9fe8-672cfd9ce30f",
   "metadata": {},
   "outputs": [],
   "source": [
    "import pandas as pd"
   ]
  },
  {
   "cell_type": "markdown",
   "id": "19dc2f83-b8ec-4fe7-bcae-76a5eba35731",
   "metadata": {},
   "source": [
    "#### 2. Load the corresponding .csv file into a data frame named cars\n",
    "Make sure that the .csv file is downloaded to your default user folder in order for it to be accessible."
   ]
  },
  {
   "cell_type": "code",
   "execution_count": 79,
   "id": "3a63a2d2-b08f-4c89-85b8-2399d704306e",
   "metadata": {},
   "outputs": [],
   "source": [
    "cars = pd.read_csv('cars.csv')"
   ]
  },
  {
   "cell_type": "markdown",
   "id": "06cd0b31-952d-4cd7-8d56-1dbf1ef6055c",
   "metadata": {},
   "source": [
    "#### 3. Display the first five rows with odd-numbered columns (columns 1, 3, 5, 7...) of cars\n",
    "Using the slicing method, you can select the odd-numbered columns with a step of 2. The <b>.head()</b> function will then display the first five selected columns from the latter condition. "
   ]
  },
  {
   "cell_type": "code",
   "execution_count": 81,
   "id": "dda64b5d-18af-4b31-b4f6-348590635701",
   "metadata": {},
   "outputs": [
    {
     "data": {
      "text/html": [
       "<div>\n",
       "<style scoped>\n",
       "    .dataframe tbody tr th:only-of-type {\n",
       "        vertical-align: middle;\n",
       "    }\n",
       "\n",
       "    .dataframe tbody tr th {\n",
       "        vertical-align: top;\n",
       "    }\n",
       "\n",
       "    .dataframe thead th {\n",
       "        text-align: right;\n",
       "    }\n",
       "</style>\n",
       "<table border=\"1\" class=\"dataframe\">\n",
       "  <thead>\n",
       "    <tr style=\"text-align: right;\">\n",
       "      <th></th>\n",
       "      <th>Model</th>\n",
       "      <th>cyl</th>\n",
       "      <th>hp</th>\n",
       "      <th>wt</th>\n",
       "      <th>vs</th>\n",
       "      <th>gear</th>\n",
       "    </tr>\n",
       "  </thead>\n",
       "  <tbody>\n",
       "    <tr>\n",
       "      <th>0</th>\n",
       "      <td>Mazda RX4</td>\n",
       "      <td>6</td>\n",
       "      <td>110</td>\n",
       "      <td>2.620</td>\n",
       "      <td>0</td>\n",
       "      <td>4</td>\n",
       "    </tr>\n",
       "    <tr>\n",
       "      <th>1</th>\n",
       "      <td>Mazda RX4 Wag</td>\n",
       "      <td>6</td>\n",
       "      <td>110</td>\n",
       "      <td>2.875</td>\n",
       "      <td>0</td>\n",
       "      <td>4</td>\n",
       "    </tr>\n",
       "    <tr>\n",
       "      <th>2</th>\n",
       "      <td>Datsun 710</td>\n",
       "      <td>4</td>\n",
       "      <td>93</td>\n",
       "      <td>2.320</td>\n",
       "      <td>1</td>\n",
       "      <td>4</td>\n",
       "    </tr>\n",
       "    <tr>\n",
       "      <th>3</th>\n",
       "      <td>Hornet 4 Drive</td>\n",
       "      <td>6</td>\n",
       "      <td>110</td>\n",
       "      <td>3.215</td>\n",
       "      <td>1</td>\n",
       "      <td>3</td>\n",
       "    </tr>\n",
       "    <tr>\n",
       "      <th>4</th>\n",
       "      <td>Hornet Sportabout</td>\n",
       "      <td>8</td>\n",
       "      <td>175</td>\n",
       "      <td>3.440</td>\n",
       "      <td>0</td>\n",
       "      <td>3</td>\n",
       "    </tr>\n",
       "  </tbody>\n",
       "</table>\n",
       "</div>"
      ],
      "text/plain": [
       "               Model  cyl   hp     wt  vs  gear\n",
       "0          Mazda RX4    6  110  2.620   0     4\n",
       "1      Mazda RX4 Wag    6  110  2.875   0     4\n",
       "2         Datsun 710    4   93  2.320   1     4\n",
       "3     Hornet 4 Drive    6  110  3.215   1     3\n",
       "4  Hornet Sportabout    8  175  3.440   0     3"
      ]
     },
     "execution_count": 81,
     "metadata": {},
     "output_type": "execute_result"
    }
   ],
   "source": [
    "cars.iloc[:, 0::2].head()"
   ]
  },
  {
   "cell_type": "markdown",
   "id": "b13b9f01-08aa-429a-b019-2b910853646f",
   "metadata": {},
   "source": [
    "#### 4. Display the row that contains the ‘Model’ of ‘Mazda RX4’\n",
    "With Bolean Indexing, the dataframe is filtered and will return a new one that contains only the rows from cars where the 'Model' column's value is 'Mazda RX4'."
   ]
  },
  {
   "cell_type": "code",
   "execution_count": 84,
   "id": "caf6ff97-bd0d-40d7-894d-2ce47e3952e7",
   "metadata": {},
   "outputs": [
    {
     "data": {
      "text/html": [
       "<div>\n",
       "<style scoped>\n",
       "    .dataframe tbody tr th:only-of-type {\n",
       "        vertical-align: middle;\n",
       "    }\n",
       "\n",
       "    .dataframe tbody tr th {\n",
       "        vertical-align: top;\n",
       "    }\n",
       "\n",
       "    .dataframe thead th {\n",
       "        text-align: right;\n",
       "    }\n",
       "</style>\n",
       "<table border=\"1\" class=\"dataframe\">\n",
       "  <thead>\n",
       "    <tr style=\"text-align: right;\">\n",
       "      <th></th>\n",
       "      <th>Model</th>\n",
       "      <th>mpg</th>\n",
       "      <th>cyl</th>\n",
       "      <th>disp</th>\n",
       "      <th>hp</th>\n",
       "      <th>drat</th>\n",
       "      <th>wt</th>\n",
       "      <th>qsec</th>\n",
       "      <th>vs</th>\n",
       "      <th>am</th>\n",
       "      <th>gear</th>\n",
       "      <th>carb</th>\n",
       "    </tr>\n",
       "  </thead>\n",
       "  <tbody>\n",
       "    <tr>\n",
       "      <th>0</th>\n",
       "      <td>Mazda RX4</td>\n",
       "      <td>21.0</td>\n",
       "      <td>6</td>\n",
       "      <td>160.0</td>\n",
       "      <td>110</td>\n",
       "      <td>3.9</td>\n",
       "      <td>2.62</td>\n",
       "      <td>16.46</td>\n",
       "      <td>0</td>\n",
       "      <td>1</td>\n",
       "      <td>4</td>\n",
       "      <td>4</td>\n",
       "    </tr>\n",
       "  </tbody>\n",
       "</table>\n",
       "</div>"
      ],
      "text/plain": [
       "       Model   mpg  cyl   disp   hp  drat    wt   qsec  vs  am  gear  carb\n",
       "0  Mazda RX4  21.0    6  160.0  110   3.9  2.62  16.46   0   1     4     4"
      ]
     },
     "execution_count": 84,
     "metadata": {},
     "output_type": "execute_result"
    }
   ],
   "source": [
    "(cars[cars['Model'] == 'Mazda RX4'])"
   ]
  },
  {
   "cell_type": "markdown",
   "id": "9478b9d7-28e9-4805-8a9e-17497f300a44",
   "metadata": {},
   "source": [
    "#### 4. Determine the number of cylinders for the car model ‘Camaro Z28’ \n",
    "Also with the use of Bolean Indexing, the dataframe is filtered and will return a series containing the values from the 'cyl' column for all rows where the 'Model' was 'Camaro Z28'"
   ]
  },
  {
   "cell_type": "code",
   "execution_count": 86,
   "id": "0a297eec-b08c-4739-bc8c-2fca833e0e43",
   "metadata": {},
   "outputs": [
    {
     "data": {
      "text/plain": [
       "23    8\n",
       "Name: cyl, dtype: int64"
      ]
     },
     "execution_count": 86,
     "metadata": {},
     "output_type": "execute_result"
    }
   ],
   "source": [
    "(cars[cars['Model'] == 'Camaro Z28']['cyl'])"
   ]
  },
  {
   "cell_type": "markdown",
   "id": "6e88cd96-a55b-48b9-8e5a-31898245966f",
   "metadata": {},
   "source": [
    "#### 5. Determine the number of cylinders and the gear type for the ff. car models: ‘Mazda RX4 Wag’, ‘Ford Pantera L’ and ‘Honda Civic’\n",
    "Again, with Boolean Indexing, the DataFrame is filtered to include only the specified car models. The <b>.isin()</b> function checks if the values in the 'Model' column match any of the values in the provided list. After filtering, the relevant information (number of cylinders and gear type) for each model is selected from the DataFrame."
   ]
  },
  {
   "cell_type": "code",
   "execution_count": 91,
   "id": "e28d8583-983c-4783-a318-65e6d6afee51",
   "metadata": {},
   "outputs": [
    {
     "data": {
      "text/html": [
       "<div>\n",
       "<style scoped>\n",
       "    .dataframe tbody tr th:only-of-type {\n",
       "        vertical-align: middle;\n",
       "    }\n",
       "\n",
       "    .dataframe tbody tr th {\n",
       "        vertical-align: top;\n",
       "    }\n",
       "\n",
       "    .dataframe thead th {\n",
       "        text-align: right;\n",
       "    }\n",
       "</style>\n",
       "<table border=\"1\" class=\"dataframe\">\n",
       "  <thead>\n",
       "    <tr style=\"text-align: right;\">\n",
       "      <th></th>\n",
       "      <th>cyl</th>\n",
       "      <th>gear</th>\n",
       "    </tr>\n",
       "  </thead>\n",
       "  <tbody>\n",
       "    <tr>\n",
       "      <th>1</th>\n",
       "      <td>6</td>\n",
       "      <td>4</td>\n",
       "    </tr>\n",
       "    <tr>\n",
       "      <th>18</th>\n",
       "      <td>4</td>\n",
       "      <td>4</td>\n",
       "    </tr>\n",
       "    <tr>\n",
       "      <th>28</th>\n",
       "      <td>8</td>\n",
       "      <td>5</td>\n",
       "    </tr>\n",
       "  </tbody>\n",
       "</table>\n",
       "</div>"
      ],
      "text/plain": [
       "    cyl  gear\n",
       "1     6     4\n",
       "18    4     4\n",
       "28    8     5"
      ]
     },
     "execution_count": 91,
     "metadata": {},
     "output_type": "execute_result"
    }
   ],
   "source": [
    "(cars[cars['Model'].isin(['Mazda RX4 Wag', 'Ford Pantera L', 'Honda Civic'])][['cyl', 'gear']])"
   ]
  }
 ],
 "metadata": {
  "kernelspec": {
   "display_name": "anaconda-2024.02-py310",
   "language": "python",
   "name": "conda-env-anaconda-2024.02-py310-py"
  },
  "language_info": {
   "codemirror_mode": {
    "name": "ipython",
    "version": 3
   },
   "file_extension": ".py",
   "mimetype": "text/x-python",
   "name": "python",
   "nbconvert_exporter": "python",
   "pygments_lexer": "ipython3",
   "version": "3.10.14"
  }
 },
 "nbformat": 4,
 "nbformat_minor": 5
}
